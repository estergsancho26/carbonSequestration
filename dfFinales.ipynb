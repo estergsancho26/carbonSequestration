{
  "cells": [
    {
      "cell_type": "code",
      "execution_count": 22,
      "metadata": {
        "colab": {
          "base_uri": "https://localhost:8080/"
        },
        "id": "1nDm-Pjh5jpl",
        "outputId": "95088e93-4e07-4e10-f270-ff43ef1d2367"
      },
      "outputs": [
        {
          "output_type": "stream",
          "name": "stdout",
          "text": [
            "Drive already mounted at /content/drive; to attempt to forcibly remount, call drive.mount(\"/content/drive\", force_remount=True).\n"
          ]
        }
      ],
      "source": [
        "import pandas as pd\n",
        "import numpy as np\n",
        "from google.colab import drive\n",
        "\n",
        "drive.mount('/content/drive')"
      ]
    },
    {
      "cell_type": "code",
      "execution_count": 23,
      "metadata": {
        "colab": {
          "base_uri": "https://localhost:8080/"
        },
        "id": "uta3FVMz5jp2",
        "outputId": "0cce7630-f64e-4920-c00a-31d312ed8489"
      },
      "outputs": [
        {
          "output_type": "stream",
          "name": "stdout",
          "text": [
            "/content/drive/MyDrive/Colab_Notebooks/TFG\n"
          ]
        }
      ],
      "source": [
        "%cd /content/drive/MyDrive/Colab_Notebooks/TFG\n",
        "\n",
        "dfSI = pd.read_csv(\"finalDF_intensive.csv\")\n",
        "dfRI = pd.read_csv(\"months_results_intensive.csv\")\n",
        "\n",
        "dfSO = pd.read_csv(\"finalDF_organic.csv\")\n",
        "dfRO = pd.read_csv(\"months_results_organic.csv\")\n",
        "\n",
        "dfST = pd.read_csv(\"finalDF_traditional.csv\")\n",
        "dfRT = pd.read_csv(\"months_results_traditional.csv\")\n"
      ]
    },
    {
      "cell_type": "code",
      "source": [
        "dfSI.rename(columns={'year': 'Year', 'month': 'Month'}, inplace=True)\n",
        "dfSI.to_csv(\"finalDF_intensive.csv\", index=False)\n",
        "\n",
        "dfSO.rename(columns={'year': 'Year', 'month': 'Month'}, inplace=True)\n",
        "dfSO.to_csv(\"finalDF_organic.csv\", index=False)\n",
        "\n",
        "dfST.rename(columns={'year': 'Year', 'month': 'Month'}, inplace=True)\n",
        "dfST.to_csv(\"finalDF_traditional.csv\", index=False)"
      ],
      "metadata": {
        "id": "1WIlAKNo6nrv"
      },
      "execution_count": 24,
      "outputs": []
    },
    {
      "cell_type": "code",
      "source": [
        "df_organico = pd.read_csv(\"finalDF_organic.csv\")\n",
        "df_tradicional = pd.read_csv(\"finalDF_traditional.csv\")\n",
        "df_intensivo = pd.read_csv(\"finalDF_intensive.csv\")"
      ],
      "metadata": {
        "id": "noW7LCoMLdDO"
      },
      "execution_count": 30,
      "outputs": []
    },
    {
      "cell_type": "code",
      "source": [
        "df_organico.columns"
      ],
      "metadata": {
        "colab": {
          "base_uri": "https://localhost:8080/"
        },
        "id": "VhisA1s-7wtR",
        "outputId": "677a0f0c-601e-4c27-f190-374a7f2ce6c2"
      },
      "execution_count": 31,
      "outputs": [
        {
          "output_type": "execute_result",
          "data": {
            "text/plain": [
              "Index(['Year', 'Month', 'modern', 'Tmp', 'Rain', 'Evap', 'C_inp', 'FYM', 'PC',\n",
              "       'DPM_RPM', 'DPM_t_C_ha', 'RPM_t_C_ha', 'BIO_t_C_ha', 'HUM_t_C_ha',\n",
              "       'IOM_t_C_ha', 'SOC_t_C_ha', 'deltaC'],\n",
              "      dtype='object')"
            ]
          },
          "metadata": {},
          "execution_count": 31
        }
      ]
    },
    {
      "cell_type": "code",
      "source": [
        "df_orgSOC = df_organico.drop(['DPM_t_C_ha',\t'RPM_t_C_ha',\t'BIO_t_C_ha',\t'HUM_t_C_ha',\t'IOM_t_C_ha'], axis = 1)\n",
        "df_organico.to_csv(\"organic_SOC.csv\", index=False)"
      ],
      "metadata": {
        "id": "q-exGLPu7i6J"
      },
      "execution_count": 33,
      "outputs": []
    },
    {
      "cell_type": "code",
      "source": [
        "df_tradicional['Tipo'] = 'Tradicional'\n",
        "df_organico['Tipo'] = 'Orgánica'\n",
        "df_intensivo['Tipo'] = 'Intensiva'\n",
        "\n",
        "df_total = pd.concat([df_tradicional, df_organico, df_intensivo], ignore_index=True)\n",
        "df_total.to_csv('total_data.csv', index=False)\n",
        "# Estadísticas descriptivas para cada tipo de cultivo\n",
        "print(\"Estadísticas descriptivas por tipo de cultivo:\")\n",
        "print(df_total.groupby('Tipo').describe())"
      ],
      "metadata": {
        "colab": {
          "base_uri": "https://localhost:8080/"
        },
        "id": "MBEo_D2q7Jxp",
        "outputId": "482c5a3d-6a8c-410b-cf74-f9f840bcb439"
      },
      "execution_count": 34,
      "outputs": [
        {
          "output_type": "stream",
          "name": "stdout",
          "text": [
            "Estadísticas descriptivas por tipo de cultivo:\n",
            "              Year                                                            \\\n",
            "             count    mean       std     min     25%     50%     75%     max   \n",
            "Tipo                                                                           \n",
            "Intensiva    120.0  2015.5  2.884324  2011.0  2013.0  2015.5  2018.0  2020.0   \n",
            "Orgánica     120.0  2015.5  2.884324  2011.0  2013.0  2015.5  2018.0  2020.0   \n",
            "Tradicional  120.0  2015.5  2.884324  2011.0  2013.0  2015.5  2018.0  2020.0   \n",
            "\n",
            "             Month       ... SOC_t_C_ha            deltaC              \\\n",
            "             count mean  ...        75%        max  count        mean   \n",
            "Tipo                     ...                                            \n",
            "Intensiva    120.0  6.5  ...  25.078820  25.516567  120.0 -127.717619   \n",
            "Orgánica     120.0  6.5  ...  25.887086  26.230550  120.0  -24.149804   \n",
            "Tradicional  120.0  6.5  ...  20.461339  20.945810  120.0 -231.535984   \n",
            "\n",
            "                                                                       \\\n",
            "                  std         min         25%         50%         75%   \n",
            "Tipo                                                                    \n",
            "Intensiva    1.295040 -130.617694 -128.690064 -127.782186 -126.814783   \n",
            "Orgánica     0.977668  -26.007446  -24.971112  -24.146941  -23.441083   \n",
            "Tradicional  1.515449 -234.341938 -232.912277 -231.510927 -230.469228   \n",
            "\n",
            "                         \n",
            "                    max  \n",
            "Tipo                     \n",
            "Intensiva   -125.049360  \n",
            "Orgánica     -22.078692  \n",
            "Tradicional -228.136836  \n",
            "\n",
            "[3 rows x 136 columns]\n"
          ]
        }
      ]
    }
  ],
  "metadata": {
    "kernelspec": {
      "display_name": "Python 3",
      "language": "python",
      "name": "python3"
    },
    "language_info": {
      "codemirror_mode": {
        "name": "ipython",
        "version": 3
      },
      "file_extension": ".py",
      "mimetype": "text/x-python",
      "name": "python",
      "nbconvert_exporter": "python",
      "pygments_lexer": "ipython3",
      "version": "3.10.11"
    },
    "colab": {
      "provenance": []
    }
  },
  "nbformat": 4,
  "nbformat_minor": 0
}